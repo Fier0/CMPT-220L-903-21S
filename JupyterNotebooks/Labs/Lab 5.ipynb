{
 "cells": [
  {
   "cell_type": "markdown",
   "metadata": {},
   "source": [
    "# Lab Five\n",
    "---\n",
    "\n",
    "For this lab we're going to be messing around with our Linear Data Types!\n",
    "\n",
    "Our Goals are:\n",
    "- Creating an Array\n",
    "- Creating an ArrayList\n",
    "- Creating an LinkedList\n",
    "- Creating an Queue\n",
    "- Creating an Stack \n",
    "\n",
    "Please show the ability to:\n",
    "- Create these data types\n",
    "- Populate the data types\n",
    "- Print out the Linear Data Types"
   ]
  },
  {
   "cell_type": "code",
   "execution_count": 5,
   "metadata": {},
   "outputs": [
    {
     "name": "stdout",
     "output_type": "stream",
     "text": [
      "1\n",
      "2\n",
      "3\n",
      "4\n",
      "5\n",
      "6\n",
      "7\n",
      "8\n",
      "9\n",
      "10\n"
     ]
    }
   ],
   "source": [
    "// Create an Array, Populate it, and Print it out\r\n",
    "int[] arr = {1,2,3,4,5,6,7,8,9,10};\r\n",
    "for (int i = 0; i < arr.length; i++){\r\n",
    "    System.out.println(arr[i]);\r\n",
    "}"
   ]
  },
  {
   "cell_type": "code",
   "execution_count": 6,
   "metadata": {},
   "outputs": [
    {
     "name": "stdout",
     "output_type": "stream",
     "text": [
      "[1, 2, 3, 4]\n"
     ]
    }
   ],
   "source": [
    "// Create an ArrayList, Populate it, and Print it out\r\n",
    "import java.util.ArrayList;\r\n",
    "ArrayList<Integer> arrL = new ArrayList();\r\n",
    "arrL.add(1);\r\n",
    "arrL.add(2);\r\n",
    "arrL.add(3);\r\n",
    "arrL.add(4);\r\n",
    "System.out.println(arrL);"
   ]
  },
  {
   "cell_type": "code",
   "execution_count": 8,
   "metadata": {},
   "outputs": [
    {
     "name": "stdout",
     "output_type": "stream",
     "text": [
      "[Alex, Dom, Joe]\n"
     ]
    }
   ],
   "source": [
    "// Create an LinkedList, Populate it, and Print it out\r\n",
    "import java.util.LinkedList;\r\n",
    "LinkedList<String> names = new LinkedList<String>();\r\n",
    "names.add(\"Alex\");\r\n",
    "names.add(\"Dom\");\r\n",
    "names.add(\"Joe\");\r\n",
    "System.out.println(names);"
   ]
  },
  {
   "cell_type": "code",
   "execution_count": 10,
   "metadata": {},
   "outputs": [
    {
     "name": "stdout",
     "output_type": "stream",
     "text": [
      "[step 1, step 2, step 3]\n"
     ]
    }
   ],
   "source": [
    "// Create an Queue, Populate it, and Print it out\r\n",
    "import java.util.Queue;\r\n",
    "\r\n",
    "Queue<String> order = new LinkedList<String>();\r\n",
    "order.add(\"step 1\");\r\n",
    "order.add(\"step 2\");\r\n",
    "order.add(\"step 3\");\r\n",
    "System.out.println(order);"
   ]
  },
  {
   "cell_type": "code",
   "execution_count": 11,
   "metadata": {},
   "outputs": [
    {
     "name": "stdout",
     "output_type": "stream",
     "text": [
      "[first, second, third]\n"
     ]
    }
   ],
   "source": [
    "// Create an Stack, Populate it, and Print it out\r\n",
    "import java.util.Stack;\r\n",
    "Stack<String> stack = new Stack<String>();\r\n",
    "stack.push(\"first\");\r\n",
    "stack.push(\"second\");\r\n",
    "stack.push(\"third\");\r\n",
    "System.out.println(stack);"
   ]
  }
 ],
 "metadata": {
  "kernelspec": {
   "display_name": "Java",
   "language": "java",
   "name": "java"
  },
  "language_info": {
   "codemirror_mode": "java",
   "file_extension": ".jshell",
   "mimetype": "text/x-java-source",
   "name": "Java",
   "pygments_lexer": "java",
   "version": "15.0.2+7-27"
  },
  "orig_nbformat": 2
 },
 "nbformat": 4,
 "nbformat_minor": 2
}