{
 "cells": [
  {
   "cell_type": "markdown",
   "metadata": {},
   "source": [
    "# Lab Two\n",
    "---\n",
    "\n",
    "Ok for this lab we're going to reiterate a lot of the things that we went over in class.\n",
    "\n",
    "Our Goals are:\n",
    "- Conditionals\n",
    "    - If\n",
    "    - Else\n",
    "    - Else If"
   ]
  },
  {
   "cell_type": "code",
   "execution_count": 2,
   "metadata": {},
   "outputs": [
    {
     "name": "stdout",
     "output_type": "stream",
     "text": [
      "0\n"
     ]
    }
   ],
   "source": [
    "// Make an if statement\r\n",
    "int x = 0;\r\n",
    "if (x<10){\r\n",
    "    System.out.println(x);\r\n",
    "    x++;\r\n",
    "}"
   ]
  },
  {
   "cell_type": "code",
   "execution_count": 3,
   "metadata": {},
   "outputs": [
    {
     "name": "stdout",
     "output_type": "stream",
     "text": [
      "else statement\n"
     ]
    }
   ],
   "source": [
    "// Make an if, else statement where the else statement triggers\r\n",
    "boolean x = false;\r\n",
    "if (x){\r\n",
    "    System.out.println(\"if statement\");\r\n",
    "}else{\r\n",
    "    System.out.println(\"else statement\");\r\n",
    "}"
   ]
  },
  {
   "cell_type": "code",
   "execution_count": 6,
   "metadata": {},
   "outputs": [
    {
     "name": "stdout",
     "output_type": "stream",
     "text": [
      "x is 2\n"
     ]
    }
   ],
   "source": [
    "// Make an if, else if, else statement where the else if statement triggers\r\n",
    "int x = 2;\r\n",
    "if(x==1){\r\n",
    "    System.out.println(\"x is 1\");\r\n",
    "}else if (x==2){\r\n",
    "    System.out.println(\"x is 2\");\r\n",
    "}"
   ]
  },
  {
   "cell_type": "code",
   "execution_count": 9,
   "metadata": {},
   "outputs": [
    {
     "name": "stdout",
     "output_type": "stream",
     "text": [
      "just x\n"
     ]
    }
   ],
   "source": [
    "// Make 2 variables and use them in an if else conditional\r\n",
    "boolean x = true;\r\n",
    "boolean y = false;\r\n",
    "if (x&&y){\r\n",
    "    System.out.println(\"x and y\");\r\n",
    "}else if (x){\r\n",
    "     System.out.println(\"just x\");\r\n",
    "}"
   ]
  },
  {
   "cell_type": "code",
   "execution_count": 10,
   "metadata": {},
   "outputs": [
    {
     "name": "stdout",
     "output_type": "stream",
     "text": [
      "x and y\n"
     ]
    }
   ],
   "source": [
    "// Make an if statement using 2 variables and an AND(&&) statement\r\n",
    "boolean x = true;\r\n",
    "boolean y = true;\r\n",
    "if (x&&y){\r\n",
    "    System.out.println(\"x and y\");\r\n",
    "}"
   ]
  },
  {
   "cell_type": "code",
   "execution_count": 11,
   "metadata": {},
   "outputs": [
    {
     "name": "stdout",
     "output_type": "stream",
     "text": [
      "x or y\n"
     ]
    }
   ],
   "source": [
    "// Make an if statement using 2 variables and an OR(||) statement\r\n",
    "boolean x = true;\r\n",
    "boolean y = false;\r\n",
    "if (x||y){\r\n",
    "    System.out.println(\"x or y\");\r\n",
    "}"
   ]
  }
 ],
 "metadata": {
  "kernelspec": {
   "display_name": "Java",
   "name": "java"
  },
  "language_info": {
   "name": "java"
  },
  "orig_nbformat": 2
 },
 "nbformat": 4,
 "nbformat_minor": 2
}