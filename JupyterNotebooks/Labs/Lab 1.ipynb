{
 "cells": [
  {
   "cell_type": "markdown",
   "metadata": {},
   "source": [
    "# Lab One\n",
    "---\n",
    "\n",
    "Ok for this lab we're going to reiterate a lot of the things that we went over in class.\n",
    "\n",
    "Our Goals are:\n",
    "- Binary Math\n",
    "- Defining Variables\n",
    "    - Primitive Types\n",
    "    - Reference Types\n",
    "- Using Math\n",
    "- Manipulating Variables"
   ]
  },
  {
   "cell_type": "markdown",
   "metadata": {},
   "source": [
    "For this section I just want you to type the answer. I know that you can just look this up but try and do the math. \r\n",
    "### What is 1000 in Binary 8\r\n",
    "\r\n",
    "### What is 1000 1001 in Binary (This is a byte. It's just split for readability) 137\r\n",
    "\r\n",
    "### What is 1010 1111 in Binary (This is a byte. It's just split for readability) 175\r\n",
    "\r\n",
    "### What is 0101 1010 in Binary (This is a byte. It's just split for readability) 90"
   ]
  },
  {
   "cell_type": "code",
   "execution_count": 4,
   "metadata": {},
   "outputs": [],
   "source": [
    "// Define 8 variables, one of each type listed: [boolean, byte, short, int, long, float, double, char]. Print all 8 of them.\r\n",
    "boolean bool = true;\r\n",
    "byte b = 8;\r\n",
    "short s = 10;\r\n",
    "int x = 20;\r\n",
    "long a = 5;\r\n",
    "float y = (float)4.2;\r\n",
    "double z = 6.9;\r\n",
    "char c = 'x';\r\n"
   ]
  },
  {
   "cell_type": "code",
   "execution_count": 10,
   "metadata": {},
   "outputs": [
    {
     "name": "stdout",
     "output_type": "stream",
     "text": [
      "[hello, there]\n"
     ]
    }
   ],
   "source": [
    "// Make me a list of any type\r\n",
    "List<String> test = new ArrayList<String>();\r\n",
    "test.add(\"hello\");\r\n",
    "test.add(\"there\");\r\n",
    "System.out.println(test.toString());"
   ]
  },
  {
   "cell_type": "code",
   "execution_count": 11,
   "metadata": {},
   "outputs": [
    {
     "name": "stdout",
     "output_type": "stream",
     "text": [
      "30\n",
      "10\n",
      "2\n",
      "200\n",
      "0\n"
     ]
    }
   ],
   "source": [
    "// With whatever variables you'd like demonstrate the following: [Addition, Subtraction, Division, Multiplication, Modulo]. Print all 5.\r\n",
    "int x = 20;\r\n",
    "int y = 10;\r\n",
    "System.out.println(x+y);\r\n",
    "System.out.println(x-y);\r\n",
    "System.out.println(x/y);\r\n",
    "System.out.println(x*y);\r\n",
    "System.out.println(x%y);\r\n"
   ]
  },
  {
   "cell_type": "code",
   "execution_count": 12,
   "metadata": {},
   "outputs": [
    {
     "name": "stdout",
     "output_type": "stream",
     "text": [
      "57\n"
     ]
    }
   ],
   "source": [
    "// Using 2 variables and addition print the number 57\r\n",
    "String x = \"5\";\r\n",
    "String y = \"7\";\r\n",
    "System.out.println(x+y);\r\n",
    "//I now relize this is not what you meant, but I'm not wrong"
   ]
  },
  {
   "cell_type": "code",
   "execution_count": 13,
   "metadata": {},
   "outputs": [
    {
     "name": "stdout",
     "output_type": "stream",
     "text": [
      "20\n",
      "21\n"
     ]
    }
   ],
   "source": [
    "// Define a variable and print it out. Then alter the same variable and print it out. This can be through string concatenation or addition, etc.\r\n",
    "int x = 20;\r\n",
    "System.out.println(x);\r\n",
    "x++;\r\n",
    "System.out.println(x);"
   ]
  }
 ],
 "metadata": {
  "kernelspec": {
   "display_name": "Java",
   "language": "java",
   "name": "java"
  },
  "language_info": {
   "codemirror_mode": "java",
   "file_extension": ".jshell",
   "mimetype": "text/x-java-source",
   "name": "Java",
   "pygments_lexer": "java",
   "version": "15.0.2+7-27"
  },
  "orig_nbformat": 2
 },
 "nbformat": 4,
 "nbformat_minor": 2
}