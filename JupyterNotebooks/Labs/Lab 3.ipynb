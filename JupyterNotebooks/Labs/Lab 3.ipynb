{
 "cells": [
  {
   "cell_type": "markdown",
   "metadata": {},
   "source": [
    "# Lab Three\n",
    "---\n",
    "\n",
    "For this lab we're going to be making and using a bunch of functions. \n",
    "\n",
    "Our Goals are:\n",
    "- Switch Case\n",
    "- Looping\n",
    "- Making our own functions\n",
    "- Combining functions\n",
    "- Structuring solutions"
   ]
  },
  {
   "cell_type": "code",
   "execution_count": 1,
   "metadata": {},
   "outputs": [
    {
     "name": "stdout",
     "output_type": "stream",
     "text": [
      "Gen 5 had the best story, but was too linear\n"
     ]
    }
   ],
   "source": [
    "// Give me an example of you using switch case.\r\n",
    "int favGen = 5;\r\n",
    "switch (favGen){\r\n",
    "    case 1:\r\n",
    "        System.out.println(\"Gen 1 is completly broken\");\r\n",
    "        break;\r\n",
    "    case 2:\r\n",
    "        System.out.println(\"Gen 2 is still broken but less so\");\r\n",
    "        break;\r\n",
    "    case 3:\r\n",
    "        System.out.println(\"Gen 3 was amazing but too much water\");\r\n",
    "        break;\r\n",
    "    case 4:\r\n",
    "        System.out.println(\"Gen 4 was top teir, just super slow\");\r\n",
    "        break;\r\n",
    "    case 5:\r\n",
    "        System.out.println(\"Gen 5 had the best story, but was too linear\");\r\n",
    "        break;    \r\n",
    "}"
   ]
  },
  {
   "cell_type": "code",
   "execution_count": 5,
   "metadata": {},
   "outputs": [
    {
     "name": "stdout",
     "output_type": "stream",
     "text": [
      "1\n",
      "2\n",
      "3\n",
      "4\n",
      "5\n",
      "6\n",
      "7\n",
      "8\n"
     ]
    }
   ],
   "source": [
    "// Give me an example of you using a for loop\r\n",
    "for(int i = 1; i <=8; i++){\r\n",
    "    System.out.println(i);\r\n",
    "}"
   ]
  },
  {
   "cell_type": "code",
   "execution_count": 6,
   "metadata": {},
   "outputs": [
    {
     "name": "stdout",
     "output_type": "stream",
     "text": [
      "Rowlet\n",
      "Cyndaquil\n",
      "Frokie\n"
     ]
    }
   ],
   "source": [
    "// Give me an example of you using a for each loop\r\n",
    "String[] favStarters = {\"Rowlet\",\"Cyndaquil\",\"Frokie\"};\r\n",
    "for(String mon : favStarters){\r\n",
    "    System.out.println(mon);\r\n",
    "}"
   ]
  },
  {
   "cell_type": "code",
   "execution_count": 1,
   "metadata": {},
   "outputs": [
    {
     "name": "stdout",
     "output_type": "stream",
     "text": [
      "0\n",
      "1\n",
      "2\n",
      "3\n",
      "4\n",
      "5\n",
      "6\n",
      "7\n",
      "8\n",
      "9\n"
     ]
    }
   ],
   "source": [
    "// Give me an example of you using a while loop\r\n",
    "int i = 0;\r\n",
    "while(i<10){\r\n",
    "    System.out.println(i);\r\n",
    "    i++;\r\n",
    "}"
   ]
  },
  {
   "cell_type": "code",
   "execution_count": 5,
   "metadata": {},
   "outputs": [
    {
     "name": "stdout",
     "output_type": "stream",
     "text": [
      "8.0\n"
     ]
    }
   ],
   "source": [
    "// I want you to write a function that will take in a number and raise it to the power given. \r\n",
    "\r\n",
    "// For example if given the numbers 2 and 3. The math that the function should do is 2^3 and should print out or return 8. Print the output.\r\n",
    "System.out.println(Math.pow(2,3));"
   ]
  },
  {
   "cell_type": "code",
   "execution_count": 15,
   "metadata": {},
   "outputs": [
    {
     "name": "stdout",
     "output_type": "stream",
     "text": [
      "2\n",
      "2\n",
      "2\n",
      "total ammount:\n",
      "3\n"
     ]
    }
   ],
   "source": [
    "// I want you to write a function that will take in a list and see how many times a given number is in the list. \r\n",
    "\r\n",
    "// For example if the array given is [2,3,5,2,3,6,7,8,2] and the number given is 2 the function should print out or return 3. Print the output.\r\n",
    "int[] array = {2,3,5,2,3,6,7,8,2};\r\n",
    "int search(int[] input, int item){\r\n",
    "    int x = 0;\r\n",
    "    for(int num:input){\r\n",
    "        if (num==item){\r\n",
    "            System.out.println(item);\r\n",
    "            x++;\r\n",
    "        }\r\n",
    "    }\r\n",
    "    System.out.println(\"total ammount:\");\r\n",
    "    return x;\r\n",
    "}\r\n",
    "System.out.println(search(array,2));"
   ]
  },
  {
   "cell_type": "code",
   "execution_count": 26,
   "metadata": {},
   "outputs": [
    {
     "name": "stdout",
     "output_type": "stream",
     "text": [
      "58.0\n"
     ]
    }
   ],
   "source": [
    "// Give me a function that gives the answer to the pythagorean theorem. \r\n",
    "// I'd like you to reuse the exponent function from above as well as the functions below to make your function.\r\n",
    "\r\n",
    "// If you don't remember the pythagorean theorem the formula is (a^2 + b^2 = c^2). Given a and b as parameters i'd like you to return c. \r\n",
    "// If this doesn't make sense look up `Pythagorean Theorem Formula` on google.\r\n",
    "\r\n",
    "int addition(int a, int b) {\r\n",
    "    int answer = a + b;\r\n",
    "    return answer;\r\n",
    "}\r\n",
    "\r\n",
    "int division(int a, int b) {\r\n",
    "    int answer = a / b;\r\n",
    "    return answer;\r\n",
    "}\r\n",
    "//also written as sqrt(a^2+b^2)\r\n",
    "double pythagorean(double x, double y){\r\n",
    "    x = Math.pow(x,2);\r\n",
    "    y = Math.pow(y,2);\r\n",
    "    double added = x+y;\r\n",
    "    Math.sqrt(added);\r\n",
    "    return added;\r\n",
    "}\r\n",
    "System.out.println(pythagorean(3,7));\r\n",
    "\r\n"
   ]
  }
 ],
 "metadata": {
  "kernelspec": {
   "display_name": "Java",
   "language": "java",
   "name": "java"
  },
  "language_info": {
   "codemirror_mode": "java",
   "file_extension": ".jshell",
   "mimetype": "text/x-java-source",
   "name": "Java",
   "pygments_lexer": "java",
   "version": "15.0.2+7-27"
  },
  "orig_nbformat": 2
 },
 "nbformat": 4,
 "nbformat_minor": 2
}